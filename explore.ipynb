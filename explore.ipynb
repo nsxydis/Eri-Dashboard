{
 "cells": [
  {
   "cell_type": "code",
   "execution_count": 2,
   "metadata": {},
   "outputs": [],
   "source": [
    "import polars as pl\n",
    "import altair as alt\n",
    "import os"
   ]
  },
  {
   "cell_type": "code",
   "execution_count": 4,
   "metadata": {},
   "outputs": [
    {
     "name": "stderr",
     "output_type": "stream",
     "text": [
      "<>:2: SyntaxWarning: invalid escape sequence '\\d'\n",
      "<>:2: SyntaxWarning: invalid escape sequence '\\d'\n",
      "C:\\Users\\nsxyd\\AppData\\Local\\Temp\\ipykernel_124852\\396059462.py:2: SyntaxWarning: invalid escape sequence '\\d'\n",
      "  file = f\"{os.getcwd()}\\data\\randomized.data_for.dashboard practice.csv\"\n"
     ]
    }
   ],
   "source": [
    "# Defaults\n",
    "file = f\"{os.getcwd()}\\\\data\\\\randomized.data_for.dashboard practice.csv\""
   ]
  }
 ],
 "metadata": {
  "kernelspec": {
   "display_name": "Python 3",
   "language": "python",
   "name": "python3"
  },
  "language_info": {
   "codemirror_mode": {
    "name": "ipython",
    "version": 3
   },
   "file_extension": ".py",
   "mimetype": "text/x-python",
   "name": "python",
   "nbconvert_exporter": "python",
   "pygments_lexer": "ipython3",
   "version": "3.12.1"
  }
 },
 "nbformat": 4,
 "nbformat_minor": 2
}
